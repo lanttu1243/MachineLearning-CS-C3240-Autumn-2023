{
 "cells": [
  {
   "cell_type": "code",
   "execution_count": 22,
   "id": "initial_id",
   "metadata": {
    "collapsed": true,
    "ExecuteTime": {
     "end_time": "2023-10-11T07:25:36.621905Z",
     "start_time": "2023-10-11T07:25:36.597655Z"
    }
   },
   "outputs": [
    {
     "name": "stdout",
     "output_type": "stream",
     "text": [
      "sys.version_info(major=3, minor=9, micro=18, releaselevel='final', serial=0) 2.12.0\n"
     ]
    }
   ],
   "source": [
    "# Python version must be 3.9\n",
    "#tensorflow version must be 2.12.0\n",
    "import sys\n",
    "from math import floor\n",
    "import numpy as np\n",
    "import pandas as pd\n",
    "from sklearn.neural_network import MLPClassifier\n",
    "from sklearn.metrics import confusion_matrix, accuracy_score, precision_score\n",
    "import tensorflow as tf\n",
    "from tensorflow.python.keras import layers, models\n",
    "import matplotlib.pyplot as plt\n",
    "from seaborn import heatmap\n",
    "\n",
    "print(sys.version_info, tf.__version__)\n"
   ]
  },
  {
   "cell_type": "markdown",
   "source": [
    "Prepare data for Method 1"
   ],
   "metadata": {
    "collapsed": false
   },
   "id": "5d200197f0171614"
  },
  {
   "cell_type": "code",
   "execution_count": 23,
   "outputs": [
    {
     "name": "stdout",
     "output_type": "stream",
     "text": [
      "   id        V1        V2        V3        V4        V5        V6        V7  \\\n",
      "0   0 -0.260648 -0.469648  2.496266 -0.083724  0.129681  0.732898  0.519014   \n",
      "1   1  0.985100 -0.356045  0.558056 -0.429654  0.277140  0.428605  0.406466   \n",
      "2   2 -0.260272 -0.949385  1.728538 -0.457986  0.074062  1.419481  0.743511   \n",
      "3   3 -0.152152 -0.508959  1.746840 -1.090178  0.249486  1.143312  0.518269   \n",
      "4   4 -0.206820 -0.165280  1.527053 -0.448293  0.106125  0.530549  0.658849   \n",
      "\n",
      "         V8        V9  ...       V21       V22       V23       V24       V25  \\\n",
      "0 -0.130006  0.727159  ... -0.110552  0.217606 -0.134794  0.165959  0.126280   \n",
      "1 -0.133118  0.347452  ... -0.194936 -0.605761  0.079469 -0.577395  0.190090   \n",
      "2 -0.095576 -0.261297  ... -0.005020  0.702906  0.945045 -1.154666 -0.605564   \n",
      "3 -0.065130 -0.205698  ... -0.146927 -0.038212 -0.214048 -1.893131  1.003963   \n",
      "4 -0.212660  1.049921  ... -0.106984  0.729727 -0.161666  0.312561 -0.414116   \n",
      "\n",
      "        V26       V27       V28    Amount  Class  \n",
      "0 -0.434824 -0.081230 -0.151045  17982.10      0  \n",
      "1  0.296503 -0.248052 -0.064512   6531.37      0  \n",
      "2 -0.312895 -0.300258 -0.244718   2513.54      0  \n",
      "3 -0.515950 -0.165316  0.048424   5384.44      0  \n",
      "4  1.071126  0.023712  0.419117  14278.97      0  \n",
      "\n",
      "[5 rows x 31 columns]\n",
      "The data has 568629 rows of data, each containing 29 + 1 cells.\n",
      "Of those V1...V28 and Amount cells function as input data and Class is the output data\n"
     ]
    }
   ],
   "source": [
    "data = pd.read_csv(\"creditcard_2023.csv\")\n",
    "creditData = pd.DataFrame(data)\n",
    "print(creditData.head(5))\n",
    "columnNames = [f\"V{n + 1}\" for n in range(28)]\n",
    "columnNames.append(\"Amount\")\n",
    "rawInputData = creditData[columnNames].values\n",
    "rawOutputData = creditData[[\"Class\"]].values\n",
    "dataSize = creditData[[\"id\"]].values.max()\n",
    "print(f\"The data has {dataSize} rows of data, each containing 29 + 1 cells.\")\n",
    "print(\"Of those V1...V28 and Amount cells function as input data and Class is the output data\")"
   ],
   "metadata": {
    "collapsed": false,
    "ExecuteTime": {
     "end_time": "2023-10-11T07:25:38.412064Z",
     "start_time": "2023-10-11T07:25:36.604642Z"
    }
   },
   "id": "7641084a1d975b50"
  },
  {
   "cell_type": "markdown",
   "source": [
    "Shuffle the data to ensure the testing and training sets contain both positives and negatives"
   ],
   "metadata": {
    "collapsed": false
   },
   "id": "7b5e84f97df13c76"
  },
  {
   "cell_type": "code",
   "execution_count": 24,
   "outputs": [],
   "source": [
    "allData = np.concatenate((rawInputData, rawOutputData), axis=1)\n",
    "np.random.shuffle(allData)"
   ],
   "metadata": {
    "collapsed": false,
    "ExecuteTime": {
     "end_time": "2023-10-11T07:25:38.827539Z",
     "start_time": "2023-10-11T07:25:38.412533Z"
    }
   },
   "id": "8331daed6707cddf"
  },
  {
   "cell_type": "markdown",
   "source": [
    "Prepare the data for the MLP"
   ],
   "metadata": {
    "collapsed": false
   },
   "id": "636e14d07bcd4fa4"
  },
  {
   "cell_type": "code",
   "execution_count": 25,
   "outputs": [
    {
     "name": "stdout",
     "output_type": "stream",
     "text": [
      "\n",
      "Testing size (x, y): ((56864, 29), (56864,))\n",
      "Training size (x, y): ((511766, 29), (511766,))\n"
     ]
    }
   ],
   "source": [
    "X_train = allData[:floor(dataSize*0.9), :29]\n",
    "y_train = allData[:floor(dataSize*0.9), 29:].reshape(-1,)\n",
    "X_test = allData[floor(dataSize*0.9):, :29]\n",
    "y_test = allData[floor(dataSize*0.9):, 29:].reshape(-1,)\n",
    "\n",
    "print(f\"\\nTesting size (x, y): {X_test.shape, y_test.shape}\")\n",
    "print(f\"Training size (x, y): {X_train.shape, y_train.shape}\")"
   ],
   "metadata": {
    "collapsed": false,
    "ExecuteTime": {
     "end_time": "2023-10-11T07:25:38.828378Z",
     "start_time": "2023-10-11T07:25:38.826655Z"
    }
   },
   "id": "14c3c8a5e9d79e"
  },
  {
   "cell_type": "markdown",
   "source": [
    "Initialise the classifier"
   ],
   "metadata": {
    "collapsed": false
   },
   "id": "610480d04f744d79"
  },
  {
   "cell_type": "code",
   "execution_count": 26,
   "outputs": [],
   "source": [
    "classifier = MLPClassifier(hidden_layer_sizes=(50, 25, 10, 5,), activation=\"logistic\", early_stopping=True, validation_fraction=0.2)"
   ],
   "metadata": {
    "collapsed": false,
    "ExecuteTime": {
     "end_time": "2023-10-11T07:25:38.833276Z",
     "start_time": "2023-10-11T07:25:38.829661Z"
    }
   },
   "id": "74bf0f85b7e360e7"
  },
  {
   "cell_type": "markdown",
   "source": [
    "Train the classifier and predict the test data"
   ],
   "metadata": {
    "collapsed": false
   },
   "id": "92fd4bd7e5bfba31"
  },
  {
   "cell_type": "code",
   "execution_count": 27,
   "outputs": [],
   "source": [
    "classifier.fit(X_train, y_train)\n",
    "y_pred = classifier.predict(X_test)"
   ],
   "metadata": {
    "collapsed": false,
    "ExecuteTime": {
     "end_time": "2023-10-11T07:26:51.016654Z",
     "start_time": "2023-10-11T07:25:38.834072Z"
    }
   },
   "id": "1f903b61fde1cad9"
  },
  {
   "cell_type": "code",
   "execution_count": 28,
   "outputs": [],
   "source": [
    "accuracyMLP = accuracy_score(y_test, y_pred)\n",
    "precisionMLP = precision_score(y_test, y_pred)\n",
    "conf_matMLP = confusion_matrix(y_test, y_pred)"
   ],
   "metadata": {
    "collapsed": false,
    "ExecuteTime": {
     "end_time": "2023-10-11T07:26:51.090899Z",
     "start_time": "2023-10-11T07:26:51.022766Z"
    }
   },
   "id": "f2396fa6cc1c15ab"
  },
  {
   "cell_type": "code",
   "execution_count": 29,
   "outputs": [
    {
     "name": "stdout",
     "output_type": "stream",
     "text": [
      "Loss: 0.14139064609305824\n",
      "Accuracy: 0.9562113111986494\n",
      "Precision: 0.9827946555198925\n",
      "ConfMat:\n",
      " [[28041   461]\n",
      " [ 2029 26333]]\n"
     ]
    }
   ],
   "source": [
    "print(f\"Loss: {classifier.loss_}\")\n",
    "print(f\"Accuracy: {accuracyMLP}\")\n",
    "print(f\"Precision: {precisionMLP}\")\n",
    "print(f\"ConfMat:\\n {conf_matMLP}\")"
   ],
   "metadata": {
    "collapsed": false,
    "ExecuteTime": {
     "end_time": "2023-10-11T07:26:51.100604Z",
     "start_time": "2023-10-11T07:26:51.093585Z"
    }
   },
   "id": "be486617a26b60f6"
  },
  {
   "cell_type": "code",
   "execution_count": 30,
   "outputs": [
    {
     "data": {
      "text/plain": "<Figure size 640x480 with 2 Axes>",
      "image/png": "[encoded data removed]"
     },
     "metadata": {},
     "output_type": "display_data"
    }
   ],
   "source": [
    "ax = plt.subplot()\n",
    "heatmap(conf_matMLP,annot=True, fmt='g', ax=ax)\n",
    "ax.set_xlabel('Predicted labels',fontsize=15)\n",
    "ax.set_ylabel('True labels',fontsize=15)\n",
    "plt.show()"
   ],
   "metadata": {
    "collapsed": false,
    "ExecuteTime": {
     "end_time": "2023-10-11T07:26:51.244345Z",
     "start_time": "2023-10-11T07:26:51.111995Z"
    }
   },
   "id": "94ae27cb96aa6fb1"
  },
  {
   "cell_type": "code",
   "execution_count": 31,
   "outputs": [
    {
     "data": {
      "text/plain": "<Figure size 640x480 with 2 Axes>",
      "image/png": "[encoded data removed]"
     },
     "metadata": {},
     "output_type": "display_data"
    }
   ],
   "source": [
    "conf_mat_per_MLP = np.round(conf_matMLP / conf_matMLP.sum(), 4)*100\n",
    "ax = plt.subplot()\n",
    "heatmap(conf_mat_per_MLP,annot=True, fmt='g', ax=ax)\n",
    "ax.set_xlabel('Predicted labels',fontsize=15)\n",
    "ax.set_ylabel('True labels',fontsize=15)\n",
    "plt.show()"
   ],
   "metadata": {
    "collapsed": false,
    "ExecuteTime": {
     "end_time": "2023-10-11T07:26:51.330819Z",
     "start_time": "2023-10-11T07:26:51.265909Z"
    }
   },
   "id": "ae8dc5aa7b69111a"
  },
  {
   "cell_type": "markdown",
   "source": [
    "Initialise the data for the CNN"
   ],
   "metadata": {
    "collapsed": false
   },
   "id": "33bb2b2e85abdaf0"
  },
  {
   "cell_type": "code",
   "execution_count": 32,
   "outputs": [
    {
     "name": "stdout",
     "output_type": "stream",
     "text": [
      "511766\n"
     ]
    }
   ],
   "source": [
    "# As tf doesn't automatically split validation data then previous training data 80% to train and 20%\n",
    "# to validation, the test data stays the same\n",
    "train_size = X_train.shape[0]\n",
    "print(train_size)\n",
    "X_val = X_train[floor(train_size*0.8):, :29].reshape(-1, 29, 1)\n",
    "y_val = y_train[floor(train_size*0.8):].reshape(-1,1)\n",
    "X_train = X_train[:floor(train_size*0.8), :29].reshape(-1, 29, 1)\n",
    "y_train = y_train[:floor(train_size*0.8)].reshape(-1,1)\n",
    "X_test = X_test.reshape(-1, 29, 1)\n",
    "y_test = y_test.reshape(-1,1)"
   ],
   "metadata": {
    "collapsed": false,
    "ExecuteTime": {
     "end_time": "2023-10-11T07:26:51.339694Z",
     "start_time": "2023-10-11T07:26:51.335917Z"
    }
   },
   "id": "ecb86cdc39184993"
  },
  {
   "cell_type": "code",
   "execution_count": 33,
   "outputs": [
    {
     "name": "stdout",
     "output_type": "stream",
     "text": [
      "\n",
      "Testing size (x, y): ((56864, 29, 1), (56864, 1))\n",
      "Validation size (x, y): ((102354, 29, 1), (102354, 1))\n",
      "Training size (x, y): ((409412, 29, 1), (409412, 1))\n",
      "total=568630\n",
      "0.10, 0.18,0.72\n"
     ]
    }
   ],
   "source": [
    "#Print the sizes \n",
    "print(f\"\\nTesting size (x, y): {X_test.shape, y_test.shape}\")\n",
    "print(f\"Validation size (x, y): {X_val.shape, y_val.shape}\")\n",
    "print(f\"Training size (x, y): {X_train.shape, y_train.shape}\")\n",
    "tot = X_test.shape[0] + X_val.shape[0] + X_train.shape[0]\n",
    "print(f\"total={tot}\")\n",
    "print(f\"{(X_test.shape[0] / tot):0.2f}, {(X_val.shape[0] / tot):0.2f},\"\n",
    "      f\"{(X_train.shape[0] / tot):0.2f}\")"
   ],
   "metadata": {
    "collapsed": false,
    "ExecuteTime": {
     "end_time": "2023-10-11T07:26:51.345287Z",
     "start_time": "2023-10-11T07:26:51.340652Z"
    }
   },
   "id": "f8fb503d6ed67ffe"
  },
  {
   "cell_type": "markdown",
   "source": [
    "Initialise the CNN model"
   ],
   "metadata": {
    "collapsed": false
   },
   "id": "d9408eb2ad014014"
  },
  {
   "cell_type": "code",
   "execution_count": 34,
   "outputs": [
    {
     "name": "stdout",
     "output_type": "stream",
     "text": [
      "Model: \"sequential_1\"\n",
      "_________________________________________________________________\n",
      "Layer (type)                 Output Shape              Param #   \n",
      "=================================================================\n",
      "conv1d_1 (Conv1D)            (None, 24, 64)            448       \n",
      "_________________________________________________________________\n",
      "max_pooling1d_1 (MaxPooling1 (None, 8, 64)             0         \n",
      "_________________________________________________________________\n",
      "flatten_1 (Flatten)          (None, 512)               0         \n",
      "_________________________________________________________________\n",
      "dense_1 (Dense)              (None, 1)                 513       \n",
      "=================================================================\n",
      "Total params: 961\n",
      "Trainable params: 961\n",
      "Non-trainable params: 0\n",
      "_________________________________________________________________\n",
      "None\n"
     ]
    }
   ],
   "source": [
    "model = models.Sequential()\n",
    "model.add(layers.InputLayer(input_shape=X_train.shape[1:]))\n",
    "model.add(layers.Conv1D(64, 6, activation='relu'))\n",
    "model.add(layers.MaxPool1D(3))\n",
    "model.add(layers.Flatten())\n",
    "model.add(layers.Dense(1, activation=\"sigmoid\"))\n",
    "print(model.summary())"
   ],
   "metadata": {
    "collapsed": false,
    "ExecuteTime": {
     "end_time": "2023-10-11T07:26:51.392673Z",
     "start_time": "2023-10-11T07:26:51.345601Z"
    }
   },
   "id": "b4a21eb38e8a307"
  },
  {
   "cell_type": "markdown",
   "source": [
    "Train the model"
   ],
   "metadata": {
    "collapsed": false
   },
   "id": "8076b6ef5e4caf87"
  },
  {
   "cell_type": "code",
   "execution_count": 42,
   "outputs": [
    {
     "name": "stdout",
     "output_type": "stream",
     "text": [
      "Epoch 1/6\n",
      "25589/25589 [==============================] - 15s 587us/step - loss: 0.0210 - val_loss: 0.0171\n",
      "Epoch 2/6\n",
      "25589/25589 [==============================] - 15s 572us/step - loss: 0.0190 - val_loss: 0.0172\n",
      "Epoch 3/6\n",
      "25589/25589 [==============================] - 15s 589us/step - loss: 0.0174 - val_loss: 0.0156\n",
      "Epoch 4/6\n",
      "25589/25589 [==============================] - 15s 590us/step - loss: 0.0161 - val_loss: 0.0199\n",
      "Epoch 5/6\n",
      "25589/25589 [==============================] - 15s 589us/step - loss: 0.0158 - val_loss: 0.0143\n",
      "Epoch 6/6\n",
      "25589/25589 [==============================] - 15s 587us/step - loss: 0.0151 - val_loss: 0.0201\n"
     ]
    }
   ],
   "source": [
    "model.compile(optimizer=\"adam\", loss=tf.keras.losses.BinaryCrossentropy())\n",
    "history = model.fit(X_train, y_train, batch_size=16, epochs=6, validation_data=(X_val, y_val))"
   ],
   "metadata": {
    "collapsed": false,
    "ExecuteTime": {
     "end_time": "2023-10-11T07:30:00.962695Z",
     "start_time": "2023-10-11T07:28:30.870382Z"
    }
   },
   "id": "795a7b8407395002"
  },
  {
   "cell_type": "code",
   "execution_count": 36,
   "outputs": [
    {
     "name": "stdout",
     "output_type": "stream",
     "text": [
      "pred: (56864,), test: (56864,)\n"
     ]
    }
   ],
   "source": [
    "y_pred = np.rint(model.predict(X_test).reshape(-1,))\n",
    "y_test = y_test.reshape(-1,)\n",
    "print(f\"pred: {y_pred.shape}, test: {y_test.shape}\")"
   ],
   "metadata": {
    "collapsed": false,
    "ExecuteTime": {
     "end_time": "2023-10-11T07:27:30.053234Z",
     "start_time": "2023-10-11T07:27:29.660017Z"
    }
   },
   "id": "a3a983c3fd88be86"
  },
  {
   "cell_type": "code",
   "execution_count": 37,
   "outputs": [],
   "source": [
    "conf_matCNN = confusion_matrix(y_test, y_pred)\n",
    "accuracyCNN = accuracy_score(y_test, y_pred)\n",
    "precisionCNN = precision_score(y_test, y_pred)"
   ],
   "metadata": {
    "collapsed": false,
    "ExecuteTime": {
     "end_time": "2023-10-11T07:27:30.108568Z",
     "start_time": "2023-10-11T07:27:30.054098Z"
    }
   },
   "id": "1799ed14d4962f80"
  },
  {
   "cell_type": "code",
   "execution_count": 38,
   "outputs": [
    {
     "name": "stdout",
     "output_type": "stream",
     "text": [
      "Loss: 0.025606507435441017\n",
      "Accuracy: 0.9935635903207654\n",
      "Precision: 0.9911234299347415\n",
      "ConfMat:\n",
      " [[28249   253]\n",
      " [  113 28249]]\n"
     ]
    }
   ],
   "source": [
    "print(f\"Loss: {history.history['loss'][-1]}\")\n",
    "print(f\"Accuracy: {accuracyCNN}\")\n",
    "print(f\"Precision: {precisionCNN}\")\n",
    "print(f\"ConfMat:\\n {conf_matCNN}\")"
   ],
   "metadata": {
    "collapsed": false,
    "ExecuteTime": {
     "end_time": "2023-10-11T07:27:30.112870Z",
     "start_time": "2023-10-11T07:27:30.096670Z"
    }
   },
   "id": "b962636be82f084"
  },
  {
   "cell_type": "code",
   "execution_count": 39,
   "outputs": [
    {
     "data": {
      "text/plain": "<Figure size 640x480 with 2 Axes>",
      "image/png": "[encoded data removed]"
     },
     "metadata": {},
     "output_type": "display_data"
    }
   ],
   "source": [
    "ax = plt.subplot()\n",
    "heatmap(conf_matCNN,annot=True, fmt='g', ax=ax)\n",
    "ax.set_xlabel('Predicted labels',fontsize=15)\n",
    "ax.set_ylabel('True labels',fontsize=15)\n",
    "plt.show()"
   ],
   "metadata": {
    "collapsed": false,
    "ExecuteTime": {
     "end_time": "2023-10-11T07:27:30.175307Z",
     "start_time": "2023-10-11T07:27:30.104183Z"
    }
   },
   "id": "6fd9709c942f7b91"
  },
  {
   "cell_type": "code",
   "execution_count": 40,
   "outputs": [
    {
     "data": {
      "text/plain": "<Figure size 640x480 with 2 Axes>",
      "image/png": "[encoded data removed]"
     },
     "metadata": {},
     "output_type": "display_data"
    }
   ],
   "source": [
    "conf_mat_per_CNN = np.round(conf_matCNN / conf_matCNN.sum(), 4)*100\n",
    "ax = plt.subplot()\n",
    "heatmap(conf_mat_per_CNN,annot=True, fmt='g', ax=ax)\n",
    "ax.set_xlabel('Predicted labels',fontsize=15)\n",
    "ax.set_ylabel('True labels',fontsize=15)\n",
    "plt.show()"
   ],
   "metadata": {
    "collapsed": false,
    "ExecuteTime": {
     "end_time": "2023-10-11T07:27:30.247315Z",
     "start_time": "2023-10-11T07:27:30.174800Z"
    }
   },
   "id": "93a4fad1ea1ca517"
  },
  {
   "cell_type": "code",
   "execution_count": 40,
   "outputs": [],
   "source": [],
   "metadata": {
    "collapsed": false,
    "ExecuteTime": {
     "end_time": "2023-10-11T07:27:30.252961Z",
     "start_time": "2023-10-11T07:27:30.244686Z"
    }
   },
   "id": "f94462d99e1c77ef"
  }
 ],
 "metadata": {
  "kernelspec": {
   "display_name": "Python 3",
   "language": "python",
   "name": "python3"
  },
  "language_info": {
   "codemirror_mode": {
    "name": "ipython",
    "version": 2
   },
   "file_extension": ".py",
   "mimetype": "text/x-python",
   "name": "python",
   "nbconvert_exporter": "python",
   "pygments_lexer": "ipython2",
   "version": "2.7.6"
  }
 },
 "nbformat": 4,
 "nbformat_minor": 5
}
