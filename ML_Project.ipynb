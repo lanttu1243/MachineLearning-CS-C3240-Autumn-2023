{
 "cells": [
  {
   "cell_type": "code",
   "execution_count": 1,
   "id": "initial_id",
   "metadata": {
    "collapsed": true,
    "ExecuteTime": {
     "end_time": "2023-10-11T05:55:32.712019Z",
     "start_time": "2023-10-11T05:55:23.900993Z"
    }
   },
   "outputs": [
    {
     "name": "stdout",
     "output_type": "stream",
     "text": [
      "sys.version_info(major=3, minor=11, micro=2, releaselevel='final', serial=0) 2.14.0\n"
     ]
    }
   ],
   "source": [
    "# Python version must be 3.9\n",
    "#tensorflow version must be 2.12.0\n",
    "import sys\n",
    "from math import floor\n",
    "import numpy as np\n",
    "import pandas as pd\n",
    "from sklearn.neural_network import MLPClassifier\n",
    "from sklearn.metrics import confusion_matrix, accuracy_score, precision_score\n",
    "import tensorflow as tf\n",
    "from tensorflow.python.keras import layers, models\n",
    "import matplotlib.pyplot as plt\n",
    "from seaborn import heatmap\n",
    "\n",
    "print(sys.version_info, tf.__version__)\n"
   ]
  },
  {
   "cell_type": "markdown",
   "source": [
    "Prepare data for Method 1"
   ],
   "metadata": {
    "collapsed": false
   },
   "id": "5d200197f0171614"
  },
  {
   "cell_type": "code",
   "execution_count": 11,
   "outputs": [
    {
     "name": "stdout",
     "output_type": "stream",
     "text": [
      "   id        V1        V2        V3        V4        V5        V6        V7  \\\n",
      "0   0 -0.260648 -0.469648  2.496266 -0.083724  0.129681  0.732898  0.519014   \n",
      "1   1  0.985100 -0.356045  0.558056 -0.429654  0.277140  0.428605  0.406466   \n",
      "2   2 -0.260272 -0.949385  1.728538 -0.457986  0.074062  1.419481  0.743511   \n",
      "3   3 -0.152152 -0.508959  1.746840 -1.090178  0.249486  1.143312  0.518269   \n",
      "4   4 -0.206820 -0.165280  1.527053 -0.448293  0.106125  0.530549  0.658849   \n",
      "\n",
      "         V8        V9  ...       V21       V22       V23       V24       V25  \\\n",
      "0 -0.130006  0.727159  ... -0.110552  0.217606 -0.134794  0.165959  0.126280   \n",
      "1 -0.133118  0.347452  ... -0.194936 -0.605761  0.079469 -0.577395  0.190090   \n",
      "2 -0.095576 -0.261297  ... -0.005020  0.702906  0.945045 -1.154666 -0.605564   \n",
      "3 -0.065130 -0.205698  ... -0.146927 -0.038212 -0.214048 -1.893131  1.003963   \n",
      "4 -0.212660  1.049921  ... -0.106984  0.729727 -0.161666  0.312561 -0.414116   \n",
      "\n",
      "        V26       V27       V28    Amount  Class  \n",
      "0 -0.434824 -0.081230 -0.151045  17982.10      0  \n",
      "1  0.296503 -0.248052 -0.064512   6531.37      0  \n",
      "2 -0.312895 -0.300258 -0.244718   2513.54      0  \n",
      "3 -0.515950 -0.165316  0.048424   5384.44      0  \n",
      "4  1.071126  0.023712  0.419117  14278.97      0  \n",
      "\n",
      "[5 rows x 31 columns]\n",
      "The data has 568629 rows of data, each containing 29 + 1 cells.\n",
      "Of those V1...V28 and Amount cells function as input data and Class is the output data\n"
     ]
    }
   ],
   "source": [
    "data = pd.read_csv(\"creditcard_2023.csv\")\n",
    "creditData = pd.DataFrame(data)\n",
    "print(creditData.head(5))\n",
    "columnNames = [f\"V{n + 1}\" for n in range(28)]\n",
    "columnNames.append(\"Amount\")\n",
    "rawInputData = creditData[columnNames].values\n",
    "rawOutputData = creditData[[\"Class\"]].values\n",
    "dataSize = creditData[[\"id\"]].values.max()\n",
    "print(f\"The data has {dataSize} rows of data, each containing 29 + 1 cells.\")\n",
    "print(\"Of those V1...V28 and Amount cells function as input data and Class is the output data\")"
   ],
   "metadata": {
    "collapsed": false,
    "ExecuteTime": {
     "end_time": "2023-10-10T22:28:06.227132Z",
     "start_time": "2023-10-10T22:28:04.347355Z"
    }
   },
   "id": "7641084a1d975b50"
  },
  {
   "cell_type": "markdown",
   "source": [
    "Shuffle the data to ensure the testing and training sets contain both positives and negatives"
   ],
   "metadata": {
    "collapsed": false
   },
   "id": "7b5e84f97df13c76"
  },
  {
   "cell_type": "code",
   "execution_count": 12,
   "outputs": [],
   "source": [
    "allData = np.concatenate((rawInputData, rawOutputData), axis=1)\n",
    "np.random.shuffle(allData)"
   ],
   "metadata": {
    "collapsed": false,
    "ExecuteTime": {
     "end_time": "2023-10-10T22:28:06.592610Z",
     "start_time": "2023-10-10T22:28:06.226959Z"
    }
   },
   "id": "8331daed6707cddf"
  },
  {
   "cell_type": "markdown",
   "source": [
    "Prepare the data for the MLP"
   ],
   "metadata": {
    "collapsed": false
   },
   "id": "636e14d07bcd4fa4"
  },
  {
   "cell_type": "code",
   "execution_count": 13,
   "outputs": [
    {
     "name": "stdout",
     "output_type": "stream",
     "text": [
      "\n",
      "Testing size (x, y): ((56864, 29), (56864,))\n",
      "Training size (x, y): ((511766, 29), (511766,))\n"
     ]
    }
   ],
   "source": [
    "X_train = allData[:floor(dataSize*0.9), :29]\n",
    "y_train = allData[:floor(dataSize*0.9), 29:].reshape(-1,)\n",
    "X_test = allData[floor(dataSize*0.9):, :29]\n",
    "y_test = allData[floor(dataSize*0.9):, 29:].reshape(-1,)\n",
    "\n",
    "print(f\"\\nTesting size (x, y): {X_test.shape, y_test.shape}\")\n",
    "print(f\"Training size (x, y): {X_train.shape, y_train.shape}\")"
   ],
   "metadata": {
    "collapsed": false,
    "ExecuteTime": {
     "end_time": "2023-10-10T22:28:06.599358Z",
     "start_time": "2023-10-10T22:28:06.595935Z"
    }
   },
   "id": "14c3c8a5e9d79e"
  },
  {
   "cell_type": "markdown",
   "source": [
    "Initialise the classifier"
   ],
   "metadata": {
    "collapsed": false
   },
   "id": "610480d04f744d79"
  },
  {
   "cell_type": "code",
   "execution_count": 14,
   "outputs": [],
   "source": [
    "classifier = MLPClassifier(hidden_layer_sizes=(50, 25, 10, 5,), activation=\"logistic\", early_stopping=True, validation_fraction=0.2)"
   ],
   "metadata": {
    "collapsed": false,
    "ExecuteTime": {
     "end_time": "2023-10-10T22:28:06.601728Z",
     "start_time": "2023-10-10T22:28:06.600676Z"
    }
   },
   "id": "74bf0f85b7e360e7"
  },
  {
   "cell_type": "markdown",
   "source": [
    "Train the classifier and predict the test data"
   ],
   "metadata": {
    "collapsed": false
   },
   "id": "92fd4bd7e5bfba31"
  },
  {
   "cell_type": "code",
   "execution_count": 15,
   "outputs": [],
   "source": [
    "classifier.fit(X_train, y_train)\n",
    "y_pred = classifier.predict(X_test)"
   ],
   "metadata": {
    "collapsed": false,
    "ExecuteTime": {
     "end_time": "2023-10-10T22:29:44.436813Z",
     "start_time": "2023-10-10T22:28:06.601963Z"
    }
   },
   "id": "1f903b61fde1cad9"
  },
  {
   "cell_type": "code",
   "execution_count": 16,
   "outputs": [],
   "source": [
    "accuracyMLP = accuracy_score(y_test, y_pred)\n",
    "precisionMLP = precision_score(y_test, y_pred)\n",
    "conf_matMLP = confusion_matrix(y_test, y_pred)"
   ],
   "metadata": {
    "collapsed": false,
    "ExecuteTime": {
     "end_time": "2023-10-10T22:29:44.488828Z",
     "start_time": "2023-10-10T22:29:44.438488Z"
    }
   },
   "id": "f2396fa6cc1c15ab"
  },
  {
   "cell_type": "code",
   "execution_count": 17,
   "outputs": [
    {
     "name": "stdout",
     "output_type": "stream",
     "text": [
      "Loss: 0.15713053811831607\n",
      "Accuracy: 0.9597636465953855\n",
      "Precision: 0.977881815165702\n",
      "ConfMat:\n",
      " [[28049   600]\n",
      " [ 1688 26527]]\n"
     ]
    }
   ],
   "source": [
    "print(f\"Loss: {classifier.loss_}\")\n",
    "print(f\"Accuracy: {accuracyMLP}\")\n",
    "print(f\"Precision: {precisionMLP}\")\n",
    "print(f\"ConfMat:\\n {conf_matMLP}\")"
   ],
   "metadata": {
    "collapsed": false,
    "ExecuteTime": {
     "end_time": "2023-10-10T22:29:44.502591Z",
     "start_time": "2023-10-10T22:29:44.493612Z"
    }
   },
   "id": "be486617a26b60f6"
  },
  {
   "cell_type": "code",
   "execution_count": 18,
   "outputs": [
    {
     "data": {
      "text/plain": "<Figure size 640x480 with 2 Axes>",
      "image/png": "[encoded data removed]"
     },
     "metadata": {},
     "output_type": "display_data"
    }
   ],
   "source": [
    "ax = plt.subplot()\n",
    "heatmap(conf_matMLP,annot=True, fmt='g', ax=ax)\n",
    "ax.set_xlabel('Predicted labels',fontsize=15)\n",
    "ax.set_ylabel('True labels',fontsize=15)\n",
    "plt.show()"
   ],
   "metadata": {
    "collapsed": false,
    "ExecuteTime": {
     "end_time": "2023-10-10T22:29:44.617507Z",
     "start_time": "2023-10-10T22:29:44.524790Z"
    }
   },
   "id": "94ae27cb96aa6fb1"
  },
  {
   "cell_type": "markdown",
   "source": [
    "Initialise the data for the CNN"
   ],
   "metadata": {
    "collapsed": false
   },
   "id": "33bb2b2e85abdaf0"
  },
  {
   "cell_type": "code",
   "execution_count": 19,
   "outputs": [
    {
     "name": "stdout",
     "output_type": "stream",
     "text": [
      "511766\n"
     ]
    }
   ],
   "source": [
    "# As tf doesn't automatically split validation data then previous training data 80% to train and 20%\n",
    "# to validation, the test data stays the same\n",
    "train_size = X_train.shape[0]\n",
    "print(train_size)\n",
    "X_val = X_train[floor(train_size*0.8):, :29].reshape(-1, 29, 1)\n",
    "y_val = y_train[floor(train_size*0.8):].reshape(-1,1)\n",
    "X_train = X_train[:floor(train_size*0.8), :29].reshape(-1, 29, 1)\n",
    "y_train = y_train[:floor(train_size*0.8)].reshape(-1,1)\n",
    "X_test = X_test.reshape(-1, 29, 1)\n",
    "y_test = y_test.reshape(-1,1)"
   ],
   "metadata": {
    "collapsed": false,
    "ExecuteTime": {
     "end_time": "2023-10-10T22:29:44.637205Z",
     "start_time": "2023-10-10T22:29:44.620612Z"
    }
   },
   "id": "ecb86cdc39184993"
  },
  {
   "cell_type": "code",
   "execution_count": 20,
   "outputs": [
    {
     "name": "stdout",
     "output_type": "stream",
     "text": [
      "\n",
      "Testing size (x, y): ((56864, 29, 1), (56864, 1))\n",
      "Validation size (x, y): ((102354, 29, 1), (102354, 1))\n",
      "Training size (x, y): ((409412, 29, 1), (409412, 1))\n",
      "total=568630\n",
      "0.10, 0.18,0.72\n"
     ]
    }
   ],
   "source": [
    "#Print the sizes \n",
    "print(f\"\\nTesting size (x, y): {X_test.shape, y_test.shape}\")\n",
    "print(f\"Validation size (x, y): {X_val.shape, y_val.shape}\")\n",
    "print(f\"Training size (x, y): {X_train.shape, y_train.shape}\")\n",
    "tot = X_test.shape[0] + X_val.shape[0] + X_train.shape[0]\n",
    "print(f\"total={tot}\")\n",
    "print(f\"{(X_test.shape[0] / tot):0.2f}, {(X_val.shape[0] / tot):0.2f},\"\n",
    "      f\"{(X_train.shape[0] / tot):0.2f}\")"
   ],
   "metadata": {
    "collapsed": false,
    "ExecuteTime": {
     "end_time": "2023-10-10T22:29:44.643843Z",
     "start_time": "2023-10-10T22:29:44.633347Z"
    }
   },
   "id": "f8fb503d6ed67ffe"
  },
  {
   "cell_type": "markdown",
   "source": [
    "Initialise the CNN model"
   ],
   "metadata": {
    "collapsed": false
   },
   "id": "d9408eb2ad014014"
  },
  {
   "cell_type": "code",
   "execution_count": 21,
   "outputs": [
    {
     "name": "stdout",
     "output_type": "stream",
     "text": [
      "Model: \"sequential\"\n",
      "_________________________________________________________________\n",
      "Layer (type)                 Output Shape              Param #   \n",
      "=================================================================\n",
      "conv1d (Conv1D)              (None, 24, 64)            448       \n",
      "_________________________________________________________________\n",
      "max_pooling1d (MaxPooling1D) (None, 8, 64)             0         \n",
      "_________________________________________________________________\n",
      "flatten (Flatten)            (None, 512)               0         \n",
      "_________________________________________________________________\n",
      "dense (Dense)                (None, 1)                 513       \n",
      "=================================================================\n",
      "Total params: 961\n",
      "Trainable params: 961\n",
      "Non-trainable params: 0\n",
      "_________________________________________________________________\n",
      "None\n"
     ]
    }
   ],
   "source": [
    "model = models.Sequential()\n",
    "model.add(layers.InputLayer(input_shape=X_train.shape[1:]))\n",
    "model.add(layers.Conv1D(64, 6, activation='relu'))\n",
    "model.add(layers.MaxPool1D(3))\n",
    "model.add(layers.Flatten())\n",
    "model.add(layers.Dense(1, activation=\"sigmoid\"))\n",
    "print(model.summary())"
   ],
   "metadata": {
    "collapsed": false,
    "ExecuteTime": {
     "end_time": "2023-10-10T22:29:44.755247Z",
     "start_time": "2023-10-10T22:29:44.647929Z"
    }
   },
   "id": "b4a21eb38e8a307"
  },
  {
   "cell_type": "markdown",
   "source": [
    "Train the model"
   ],
   "metadata": {
    "collapsed": false
   },
   "id": "8076b6ef5e4caf87"
  },
  {
   "cell_type": "code",
   "execution_count": 22,
   "outputs": [
    {
     "name": "stdout",
     "output_type": "stream",
     "text": [
      "Epoch 1/6\n"
     ]
    },
    {
     "name": "stderr",
     "output_type": "stream",
     "text": [
      "2023-10-11 01:29:44.827775: W tensorflow/tsl/platform/profile_utils/cpu_utils.cc:128] Failed to get CPU frequency: 0 Hz\n"
     ]
    },
    {
     "name": "stdout",
     "output_type": "stream",
     "text": [
      "6398/6398 [==============================] - 27s 4ms/step - loss: 0.7733 - val_loss: 0.3969\n",
      "Epoch 2/6\n",
      "6398/6398 [==============================] - 27s 4ms/step - loss: 0.1253 - val_loss: 0.1230\n",
      "Epoch 3/6\n",
      "6398/6398 [==============================] - 27s 4ms/step - loss: 0.0716 - val_loss: 0.0471\n",
      "Epoch 4/6\n",
      "6398/6398 [==============================] - 28s 4ms/step - loss: 0.0425 - val_loss: 0.0372\n",
      "Epoch 5/6\n",
      "6398/6398 [==============================] - 27s 4ms/step - loss: 0.0289 - val_loss: 0.0343\n",
      "Epoch 6/6\n",
      "6398/6398 [==============================] - 27s 4ms/step - loss: 0.0250 - val_loss: 0.0231\n"
     ]
    }
   ],
   "source": [
    "model.compile(optimizer=\"adam\", loss=tf.keras.losses.BinaryCrossentropy())\n",
    "history = model.fit(X_train, y_train, batch_size=64, epochs=6, validation_data=(X_val, y_val))"
   ],
   "metadata": {
    "collapsed": false,
    "ExecuteTime": {
     "end_time": "2023-10-10T22:32:26.963755Z",
     "start_time": "2023-10-10T22:29:44.729278Z"
    }
   },
   "id": "795a7b8407395002"
  },
  {
   "cell_type": "code",
   "execution_count": 23,
   "outputs": [
    {
     "name": "stdout",
     "output_type": "stream",
     "text": [
      "pred: (56864,), test: (56864,)\n",
      "[0. 1. 0. 0. 1.]\n"
     ]
    }
   ],
   "source": [
    "y_pred = np.rint(model.predict(X_test).reshape(-1,))\n",
    "y_test = y_test.reshape(-1,)\n",
    "print(f\"pred: {y_pred.shape}, test: {y_test.shape}\")\n",
    "print(y_pred[:5])"
   ],
   "metadata": {
    "collapsed": false,
    "ExecuteTime": {
     "end_time": "2023-10-10T22:32:28.192981Z",
     "start_time": "2023-10-10T22:32:26.964963Z"
    }
   },
   "id": "a3a983c3fd88be86"
  },
  {
   "cell_type": "code",
   "execution_count": 24,
   "outputs": [],
   "source": [
    "conf_matCNN = confusion_matrix(y_test, y_pred)\n",
    "accuracyCNN = accuracy_score(y_test, y_pred)\n",
    "precisionCNN = precision_score(y_test, y_pred)"
   ],
   "metadata": {
    "collapsed": false,
    "ExecuteTime": {
     "end_time": "2023-10-10T22:32:28.235688Z",
     "start_time": "2023-10-10T22:32:28.192372Z"
    }
   },
   "id": "1799ed14d4962f80"
  },
  {
   "cell_type": "code",
   "execution_count": 25,
   "outputs": [
    {
     "name": "stdout",
     "output_type": "stream",
     "text": [
      "Loss: 0.024966174736618996\n",
      "Accuracy: 0.9939328925154756\n",
      "Precision: 0.9930648927889039\n",
      "ConfMat:\n",
      " [[28453   196]\n",
      " [  149 28066]]\n"
     ]
    }
   ],
   "source": [
    "print(f\"Loss: {history.history['loss'][-1]}\")\n",
    "print(f\"Accuracy: {accuracyCNN}\")\n",
    "print(f\"Precision: {precisionCNN}\")\n",
    "print(f\"ConfMat:\\n {conf_matCNN}\")"
   ],
   "metadata": {
    "collapsed": false,
    "ExecuteTime": {
     "end_time": "2023-10-10T22:32:28.240139Z",
     "start_time": "2023-10-10T22:32:28.236616Z"
    }
   },
   "id": "b962636be82f084"
  },
  {
   "cell_type": "code",
   "execution_count": 26,
   "outputs": [
    {
     "data": {
      "text/plain": "<Figure size 640x480 with 2 Axes>",
      "image/png": "[encoded data removed]"
     },
     "metadata": {},
     "output_type": "display_data"
    }
   ],
   "source": [
    "ax = plt.subplot()\n",
    "heatmap(conf_matCNN,annot=True, fmt='g', ax=ax)\n",
    "ax.set_xlabel('Predicted labels',fontsize=15)\n",
    "ax.set_ylabel('True labels',fontsize=15)\n",
    "plt.show()"
   ],
   "metadata": {
    "collapsed": false,
    "ExecuteTime": {
     "end_time": "2023-10-10T22:32:28.317018Z",
     "start_time": "2023-10-10T22:32:28.245169Z"
    }
   },
   "id": "6fd9709c942f7b91"
  }
 ],
 "metadata": {
  "kernelspec": {
   "display_name": "Python 3",
   "language": "python",
   "name": "python3"
  },
  "language_info": {
   "codemirror_mode": {
    "name": "ipython",
    "version": 2
   },
   "file_extension": ".py",
   "mimetype": "text/x-python",
   "name": "python",
   "nbconvert_exporter": "python",
   "pygments_lexer": "ipython2",
   "version": "2.7.6"
  }
 },
 "nbformat": 4,
 "nbformat_minor": 5
}
