{
 "cells": [
  {
   "cell_type": "code",
   "execution_count": 1,
   "id": "initial_id",
   "metadata": {
    "collapsed": true,
    "ExecuteTime": {
     "end_time": "2023-10-11T19:31:22.506399Z",
     "start_time": "2023-10-11T19:31:19.727656Z"
    }
   },
   "outputs": [
    {
     "name": "stdout",
     "output_type": "stream",
     "text": [
      "sys.version_info(major=3, minor=9, micro=18, releaselevel='final', serial=0) 2.12.0\n"
     ]
    }
   ],
   "source": [
    "# Python version must be 3.9\n",
    "#tensorflow version must be 2.12.0\n",
    "import sys\n",
    "from math import floor\n",
    "import numpy as np\n",
    "import pandas as pd\n",
    "from sklearn.neural_network import MLPClassifier\n",
    "from sklearn.metrics import confusion_matrix, accuracy_score, precision_score\n",
    "import tensorflow as tf\n",
    "from tensorflow.python.keras import layers, models\n",
    "import matplotlib.pyplot as plt\n",
    "from seaborn import heatmap\n",
    "from PIL import Image\n",
    "\n",
    "print(sys.version_info, tf.__version__)\n"
   ]
  },
  {
   "cell_type": "markdown",
   "source": [
    "### Prepare data for Method 1"
   ],
   "metadata": {
    "collapsed": false
   },
   "id": "5d200197f0171614"
  },
  {
   "cell_type": "code",
   "execution_count": 2,
   "outputs": [
    {
     "name": "stdout",
     "output_type": "stream",
     "text": [
      "   id        V1        V2        V3        V4        V5        V6        V7  \\\n",
      "0   0 -0.260648 -0.469648  2.496266 -0.083724  0.129681  0.732898  0.519014   \n",
      "1   1  0.985100 -0.356045  0.558056 -0.429654  0.277140  0.428605  0.406466   \n",
      "2   2 -0.260272 -0.949385  1.728538 -0.457986  0.074062  1.419481  0.743511   \n",
      "3   3 -0.152152 -0.508959  1.746840 -1.090178  0.249486  1.143312  0.518269   \n",
      "4   4 -0.206820 -0.165280  1.527053 -0.448293  0.106125  0.530549  0.658849   \n",
      "\n",
      "         V8        V9  ...       V21       V22       V23       V24       V25  \\\n",
      "0 -0.130006  0.727159  ... -0.110552  0.217606 -0.134794  0.165959  0.126280   \n",
      "1 -0.133118  0.347452  ... -0.194936 -0.605761  0.079469 -0.577395  0.190090   \n",
      "2 -0.095576 -0.261297  ... -0.005020  0.702906  0.945045 -1.154666 -0.605564   \n",
      "3 -0.065130 -0.205698  ... -0.146927 -0.038212 -0.214048 -1.893131  1.003963   \n",
      "4 -0.212660  1.049921  ... -0.106984  0.729727 -0.161666  0.312561 -0.414116   \n",
      "\n",
      "        V26       V27       V28    Amount  Class  \n",
      "0 -0.434824 -0.081230 -0.151045  17982.10      0  \n",
      "1  0.296503 -0.248052 -0.064512   6531.37      0  \n",
      "2 -0.312895 -0.300258 -0.244718   2513.54      0  \n",
      "3 -0.515950 -0.165316  0.048424   5384.44      0  \n",
      "4  1.071126  0.023712  0.419117  14278.97      0  \n",
      "\n",
      "[5 rows x 31 columns]\n",
      "The data has 568629 rows of data, each containing 29 + 1 cells.\n",
      "Of those V1...V28 and Amount cells function as input data and Class is the output data\n"
     ]
    }
   ],
   "source": [
    "data = pd.read_csv(\"creditcard_2023.csv\")\n",
    "creditData = pd.DataFrame(data)\n",
    "print(creditData.head(5))\n",
    "columnNames = [f\"V{n + 1}\" for n in range(28)]\n",
    "columnNames.append(\"Amount\")\n",
    "rawInputData = creditData[columnNames].values\n",
    "rawOutputData = creditData[[\"Class\"]].values\n",
    "dataSize = creditData[[\"id\"]].values.max()\n",
    "print(f\"The data has {dataSize} rows of data, each containing 29 + 1 cells.\")\n",
    "print(\"Of those V1...V28 and Amount cells function as input data and Class is the output data\")"
   ],
   "metadata": {
    "collapsed": false,
    "ExecuteTime": {
     "end_time": "2023-10-11T19:31:24.144782Z",
     "start_time": "2023-10-11T19:31:22.505538Z"
    }
   },
   "id": "7641084a1d975b50"
  },
  {
   "cell_type": "markdown",
   "source": [
    "### Shuffle the data to ensure the testing and training sets contain both positives and negatives"
   ],
   "metadata": {
    "collapsed": false
   },
   "id": "7b5e84f97df13c76"
  },
  {
   "cell_type": "code",
   "execution_count": 3,
   "outputs": [],
   "source": [
    "allData = np.concatenate((rawInputData, rawOutputData), axis=1)\n",
    "np.random.shuffle(allData)"
   ],
   "metadata": {
    "collapsed": false,
    "ExecuteTime": {
     "end_time": "2023-10-11T19:31:24.484769Z",
     "start_time": "2023-10-11T19:31:24.145267Z"
    }
   },
   "id": "8331daed6707cddf"
  },
  {
   "cell_type": "markdown",
   "source": [
    "### Prepare the data for the MLP"
   ],
   "metadata": {
    "collapsed": false
   },
   "id": "636e14d07bcd4fa4"
  },
  {
   "cell_type": "code",
   "execution_count": 4,
   "outputs": [
    {
     "name": "stdout",
     "output_type": "stream",
     "text": [
      "\n",
      "Testing size (x, y): ((56864, 29), (56864,))\n",
      "Training size (x, y): ((511766, 29), (511766,))\n"
     ]
    }
   ],
   "source": [
    "X_train = allData[:floor(dataSize*0.9), :29]\n",
    "y_train = allData[:floor(dataSize*0.9), 29:].reshape(-1,)\n",
    "X_test = allData[floor(dataSize*0.9):, :29]\n",
    "y_test = allData[floor(dataSize*0.9):, 29:].reshape(-1,)\n",
    "\n",
    "print(f\"\\nTesting size (x, y): {X_test.shape, y_test.shape}\")\n",
    "print(f\"Training size (x, y): {X_train.shape, y_train.shape}\")"
   ],
   "metadata": {
    "collapsed": false,
    "ExecuteTime": {
     "end_time": "2023-10-11T19:31:24.489303Z",
     "start_time": "2023-10-11T19:31:24.486078Z"
    }
   },
   "id": "14c3c8a5e9d79e"
  },
  {
   "cell_type": "markdown",
   "source": [
    "### Initialise the classifier"
   ],
   "metadata": {
    "collapsed": false
   },
   "id": "610480d04f744d79"
  },
  {
   "cell_type": "code",
   "execution_count": 5,
   "outputs": [],
   "source": [
    "classifier = MLPClassifier(hidden_layer_sizes=(50, 25, 10, 5,), activation=\"logistic\", early_stopping=True, validation_fraction=0.2)"
   ],
   "metadata": {
    "collapsed": false,
    "ExecuteTime": {
     "end_time": "2023-10-11T19:31:24.492864Z",
     "start_time": "2023-10-11T19:31:24.489057Z"
    }
   },
   "id": "74bf0f85b7e360e7"
  },
  {
   "cell_type": "markdown",
   "source": [
    "### Train the classifier and predict the test data"
   ],
   "metadata": {
    "collapsed": false
   },
   "id": "92fd4bd7e5bfba31"
  },
  {
   "cell_type": "code",
   "execution_count": 6,
   "outputs": [],
   "source": [
    "classifier.fit(X_train, y_train)\n",
    "y_pred = classifier.predict(X_test)"
   ],
   "metadata": {
    "collapsed": false,
    "ExecuteTime": {
     "end_time": "2023-10-11T19:33:01.371171Z",
     "start_time": "2023-10-11T19:31:24.493411Z"
    }
   },
   "id": "1f903b61fde1cad9"
  },
  {
   "cell_type": "code",
   "execution_count": 7,
   "outputs": [],
   "source": [
    "accuracyMLP = accuracy_score(y_test, y_pred)\n",
    "precisionMLP = precision_score(y_test, y_pred)\n",
    "conf_matMLP = confusion_matrix(y_test, y_pred)"
   ],
   "metadata": {
    "collapsed": false,
    "ExecuteTime": {
     "end_time": "2023-10-11T19:33:01.431117Z",
     "start_time": "2023-10-11T19:33:01.375993Z"
    }
   },
   "id": "f2396fa6cc1c15ab"
  },
  {
   "cell_type": "code",
   "execution_count": 8,
   "outputs": [
    {
     "name": "stdout",
     "output_type": "stream",
     "text": [
      "Loss: 0.1438175746970285\n",
      "Accuracy: 0.9601681204276871\n",
      "Precision: 0.9834144183989385\n",
      "ConfMat:\n",
      " [[27917   450]\n",
      " [ 1815 26682]]\n"
     ]
    }
   ],
   "source": [
    "print(f\"Loss: {classifier.loss_}\")\n",
    "print(f\"Accuracy: {accuracyMLP}\")\n",
    "print(f\"Precision: {precisionMLP}\")\n",
    "print(f\"ConfMat:\\n {conf_matMLP}\")"
   ],
   "metadata": {
    "collapsed": false,
    "ExecuteTime": {
     "end_time": "2023-10-11T19:33:01.440008Z",
     "start_time": "2023-10-11T19:33:01.432592Z"
    }
   },
   "id": "be486617a26b60f6"
  },
  {
   "cell_type": "code",
   "execution_count": 9,
   "outputs": [
    {
     "data": {
      "text/plain": "<Figure size 640x480 with 2 Axes>",
      "image/png": "[encoded data removed]"
     },
     "metadata": {},
     "output_type": "display_data"
    }
   ],
   "source": [
    "ax = plt.subplot()\n",
    "heatmap(conf_matMLP,annot=True, fmt='g', ax=ax)\n",
    "ax.set_xlabel('Predicted labels',fontsize=15)\n",
    "ax.set_ylabel('True labels',fontsize=15)\n",
    "ax.set_title('MLP Confusion',fontsize=30)\n",
    "plt.savefig(\"pics/MLP_confusion.png\")\n",
    "plt.show()"
   ],
   "metadata": {
    "collapsed": false,
    "ExecuteTime": {
     "end_time": "2023-10-11T19:33:01.605812Z",
     "start_time": "2023-10-11T19:33:01.441462Z"
    }
   },
   "id": "94ae27cb96aa6fb1"
  },
  {
   "cell_type": "code",
   "execution_count": 10,
   "outputs": [
    {
     "data": {
      "text/plain": "<Figure size 640x480 with 2 Axes>",
      "image/png": "[encoded data removed]"
     },
     "metadata": {},
     "output_type": "display_data"
    }
   ],
   "source": [
    "conf_mat_per_MLP = np.round(conf_matMLP / conf_matMLP.sum(), 4)*100\n",
    "ax = plt.subplot()\n",
    "heatmap(conf_mat_per_MLP,annot=True, fmt='g', ax=ax)\n",
    "ax.set_xlabel('Predicted labels',fontsize=15)\n",
    "ax.set_ylabel('True labels',fontsize=15)\n",
    "ax.set_title('MLP Percentages',fontsize=30)\n",
    "plt.savefig(\"pics/MLP_percentages.png\")\n",
    "plt.show()"
   ],
   "metadata": {
    "collapsed": false,
    "ExecuteTime": {
     "end_time": "2023-10-11T19:33:01.731423Z",
     "start_time": "2023-10-11T19:33:01.619316Z"
    }
   },
   "id": "ae8dc5aa7b69111a"
  },
  {
   "cell_type": "markdown",
   "source": [
    "### Initialise the data for the CNN"
   ],
   "metadata": {
    "collapsed": false
   },
   "id": "33bb2b2e85abdaf0"
  },
  {
   "cell_type": "code",
   "execution_count": 11,
   "outputs": [
    {
     "name": "stdout",
     "output_type": "stream",
     "text": [
      "511766\n"
     ]
    }
   ],
   "source": [
    "# As tf doesn't automatically split validation data then previous training data 80% to train and 20%\n",
    "# to validation, the test data stays the same\n",
    "train_size = X_train.shape[0]\n",
    "print(train_size)\n",
    "X_val = X_train[floor(train_size*0.8):, :29].reshape(-1, 29, 1)\n",
    "y_val = y_train[floor(train_size*0.8):].reshape(-1,1)\n",
    "X_train = X_train[:floor(train_size*0.8), :29].reshape(-1, 29, 1)\n",
    "y_train = y_train[:floor(train_size*0.8)].reshape(-1,1)\n",
    "X_test = X_test.reshape(-1, 29, 1)\n",
    "y_test = y_test.reshape(-1,1)"
   ],
   "metadata": {
    "collapsed": false,
    "ExecuteTime": {
     "end_time": "2023-10-11T19:33:01.738074Z",
     "start_time": "2023-10-11T19:33:01.732767Z"
    }
   },
   "id": "ecb86cdc39184993"
  },
  {
   "cell_type": "code",
   "execution_count": 12,
   "outputs": [
    {
     "name": "stdout",
     "output_type": "stream",
     "text": [
      "\n",
      "Testing size (x, y): ((56864, 29, 1), (56864, 1))\n",
      "Validation size (x, y): ((102354, 29, 1), (102354, 1))\n",
      "Training size (x, y): ((409412, 29, 1), (409412, 1))\n",
      "total=568630\n",
      "0.10, 0.18,0.72\n"
     ]
    }
   ],
   "source": [
    "#Print the sizes \n",
    "print(f\"\\nTesting size (x, y): {X_test.shape, y_test.shape}\")\n",
    "print(f\"Validation size (x, y): {X_val.shape, y_val.shape}\")\n",
    "print(f\"Training size (x, y): {X_train.shape, y_train.shape}\")\n",
    "tot = X_test.shape[0] + X_val.shape[0] + X_train.shape[0]\n",
    "print(f\"total={tot}\")\n",
    "print(f\"{(X_test.shape[0] / tot):0.2f}, {(X_val.shape[0] / tot):0.2f},\"\n",
    "      f\"{(X_train.shape[0] / tot):0.2f}\")"
   ],
   "metadata": {
    "collapsed": false,
    "ExecuteTime": {
     "end_time": "2023-10-11T19:33:01.743813Z",
     "start_time": "2023-10-11T19:33:01.739125Z"
    }
   },
   "id": "f8fb503d6ed67ffe"
  },
  {
   "cell_type": "markdown",
   "source": [
    "### Initialise the CNN model"
   ],
   "metadata": {
    "collapsed": false
   },
   "id": "d9408eb2ad014014"
  },
  {
   "cell_type": "code",
   "execution_count": 13,
   "outputs": [
    {
     "name": "stdout",
     "output_type": "stream",
     "text": [
      "Model: \"sequential\"\n",
      "_________________________________________________________________\n",
      "Layer (type)                 Output Shape              Param #   \n",
      "=================================================================\n",
      "conv1d (Conv1D)              (None, 24, 64)            448       \n",
      "_________________________________________________________________\n",
      "max_pooling1d (MaxPooling1D) (None, 8, 64)             0         \n",
      "_________________________________________________________________\n",
      "flatten (Flatten)            (None, 512)               0         \n",
      "_________________________________________________________________\n",
      "dense (Dense)                (None, 1)                 513       \n",
      "=================================================================\n",
      "Total params: 961\n",
      "Trainable params: 961\n",
      "Non-trainable params: 0\n",
      "_________________________________________________________________\n",
      "None\n"
     ]
    }
   ],
   "source": [
    "model = models.Sequential()\n",
    "model.add(layers.InputLayer(input_shape=X_train.shape[1:]))\n",
    "model.add(layers.Conv1D(64, 6, activation='relu'))\n",
    "model.add(layers.MaxPool1D(3))\n",
    "model.add(layers.Flatten())\n",
    "model.add(layers.Dense(1, activation=\"sigmoid\"))\n",
    "print(model.summary())\n",
    "model.compile(optimizer=\"adam\", loss=tf.keras.losses.BinaryCrossentropy())"
   ],
   "metadata": {
    "collapsed": false,
    "ExecuteTime": {
     "end_time": "2023-10-11T19:33:01.859248Z",
     "start_time": "2023-10-11T19:33:01.743149Z"
    }
   },
   "id": "b4a21eb38e8a307"
  },
  {
   "cell_type": "markdown",
   "source": [
    "### Train the model"
   ],
   "metadata": {
    "collapsed": false
   },
   "id": "8076b6ef5e4caf87"
  },
  {
   "cell_type": "code",
   "execution_count": 14,
   "outputs": [
    {
     "name": "stdout",
     "output_type": "stream",
     "text": [
      "Epoch 1/6\n",
      "    1/25589 [..............................] - ETA: 1:04:43 - loss: 115.7620"
     ]
    },
    {
     "name": "stderr",
     "output_type": "stream",
     "text": [
      "2023-10-11 22:33:01.830490: W tensorflow/tsl/platform/profile_utils/cpu_utils.cc:128] Failed to get CPU frequency: 0 Hz\n"
     ]
    },
    {
     "name": "stdout",
     "output_type": "stream",
     "text": [
      "25589/25589 [==============================] - 16s 608us/step - loss: 0.4824 - val_loss: 0.0812\n",
      "Epoch 2/6\n",
      "25589/25589 [==============================] - 16s 640us/step - loss: 0.0432 - val_loss: 0.0345\n",
      "Epoch 3/6\n",
      "25589/25589 [==============================] - 16s 624us/step - loss: 0.0287 - val_loss: 0.0260\n",
      "Epoch 4/6\n",
      "25589/25589 [==============================] - 16s 624us/step - loss: 0.0237 - val_loss: 0.0193\n",
      "Epoch 5/6\n",
      "25589/25589 [==============================] - 16s 634us/step - loss: 0.0208 - val_loss: 0.0151\n",
      "Epoch 6/6\n",
      "25589/25589 [==============================] - 16s 611us/step - loss: 0.0196 - val_loss: 0.0136\n"
     ]
    }
   ],
   "source": [
    "history = model.fit(X_train, y_train, batch_size=16, epochs=6, validation_data=(X_val, y_val))"
   ],
   "metadata": {
    "collapsed": false,
    "ExecuteTime": {
     "end_time": "2023-10-11T19:34:37.757704Z",
     "start_time": "2023-10-11T19:33:01.814063Z"
    }
   },
   "id": "795a7b8407395002"
  },
  {
   "cell_type": "code",
   "execution_count": 15,
   "outputs": [
    {
     "name": "stdout",
     "output_type": "stream",
     "text": [
      "pred: (56864,), test: (56864,)\n"
     ]
    }
   ],
   "source": [
    "y_pred = np.rint(model.predict(X_test).reshape(-1,))\n",
    "y_test = y_test.reshape(-1,)\n",
    "print(f\"pred: {y_pred.shape}, test: {y_test.shape}\")"
   ],
   "metadata": {
    "collapsed": false,
    "ExecuteTime": {
     "end_time": "2023-10-11T19:34:38.136497Z",
     "start_time": "2023-10-11T19:34:37.758478Z"
    }
   },
   "id": "a3a983c3fd88be86"
  },
  {
   "cell_type": "code",
   "execution_count": 16,
   "outputs": [],
   "source": [
    "conf_matCNN = confusion_matrix(y_test, y_pred)\n",
    "accuracyCNN = accuracy_score(y_test, y_pred)\n",
    "precisionCNN = precision_score(y_test, y_pred)"
   ],
   "metadata": {
    "collapsed": false,
    "ExecuteTime": {
     "end_time": "2023-10-11T19:34:38.229529Z",
     "start_time": "2023-10-11T19:34:38.137179Z"
    }
   },
   "id": "1799ed14d4962f80"
  },
  {
   "cell_type": "code",
   "execution_count": 17,
   "outputs": [
    {
     "name": "stdout",
     "output_type": "stream",
     "text": [
      "Loss: 0.019573723897337914\n",
      "Accuracy: 0.9965004220596511\n",
      "Precision: 0.9959688726864835\n",
      "ConfMat:\n",
      " [[28252   115]\n",
      " [   84 28413]]\n"
     ]
    }
   ],
   "source": [
    "print(f\"Loss: {history.history['loss'][-1]}\")\n",
    "print(f\"Accuracy: {accuracyCNN}\")\n",
    "print(f\"Precision: {precisionCNN}\")\n",
    "print(f\"ConfMat:\\n {conf_matCNN}\")"
   ],
   "metadata": {
    "collapsed": false,
    "ExecuteTime": {
     "end_time": "2023-10-11T19:34:38.231542Z",
     "start_time": "2023-10-11T19:34:38.179041Z"
    }
   },
   "id": "b962636be82f084"
  },
  {
   "cell_type": "code",
   "execution_count": 18,
   "outputs": [
    {
     "data": {
      "text/plain": "<Figure size 640x480 with 2 Axes>",
      "image/png": "[encoded data removed]"
     },
     "metadata": {},
     "output_type": "display_data"
    }
   ],
   "source": [
    "ax = plt.subplot()\n",
    "heatmap(conf_matCNN,annot=True, fmt='g', ax=ax)\n",
    "ax.set_xlabel('Predicted labels',fontsize=15)\n",
    "ax.set_ylabel('True labels',fontsize=15)\n",
    "ax.set_title('CNN Confusion',fontsize=30)\n",
    "plt.savefig(\"pics/CNN_confusion.png\")\n",
    "plt.show()"
   ],
   "metadata": {
    "collapsed": false,
    "ExecuteTime": {
     "end_time": "2023-10-11T19:34:38.299176Z",
     "start_time": "2023-10-11T19:34:38.188137Z"
    }
   },
   "id": "6fd9709c942f7b91"
  },
  {
   "cell_type": "code",
   "execution_count": 19,
   "outputs": [
    {
     "data": {
      "text/plain": "<Figure size 640x480 with 2 Axes>",
      "image/png": "[encoded data removed]"
     },
     "metadata": {},
     "output_type": "display_data"
    }
   ],
   "source": [
    "conf_mat_per_CNN = np.round(conf_matCNN / conf_matCNN.sum(), 4)*100\n",
    "ax = plt.subplot()\n",
    "heatmap(conf_mat_per_CNN,annot=True, fmt='g', ax=ax)\n",
    "ax.set_xlabel('Predicted labels',fontsize=15)\n",
    "ax.set_ylabel('True labels',fontsize=15)\n",
    "ax.set_title('CNN Percentages',fontsize=30)\n",
    "plt.savefig(\"pics/CNN_percentages.png\")\n",
    "plt.show()"
   ],
   "metadata": {
    "collapsed": false,
    "ExecuteTime": {
     "end_time": "2023-10-11T19:34:38.413422Z",
     "start_time": "2023-10-11T19:34:38.303455Z"
    }
   },
   "id": "93a4fad1ea1ca517"
  },
  {
   "cell_type": "code",
   "execution_count": 20,
   "outputs": [],
   "source": [
    "confusion_matrices = [\"pics/CNN_confusion.png\", \"pics/CNN_percentages.png\",\n",
    "                      \"pics/MLP_confusion.png\", \"pics/MLP_percentages.png\"]\n",
    "confusion_matrices = [Image.open(path) for path in confusion_matrices]\n",
    "widths, heights = zip(*(i.size for i in confusion_matrices))\n",
    "\n",
    "total_width = sum(widths)\n",
    "max_height = max(heights)\n",
    "\n",
    "new_im = Image.new('RGB', (total_width, max_height))\n",
    "\n",
    "x_offset = 0\n",
    "for im in confusion_matrices:\n",
    "  new_im.paste(im, (x_offset,0))\n",
    "  x_offset += im.size[0]\n",
    "new_im.save('pics/combined.png')"
   ],
   "metadata": {
    "collapsed": false,
    "ExecuteTime": {
     "end_time": "2023-10-11T19:34:38.501048Z",
     "start_time": "2023-10-11T19:34:38.414209Z"
    }
   },
   "id": "3607a8710a24f195"
  }
 ],
 "metadata": {
  "kernelspec": {
   "display_name": "Python 3",
   "language": "python",
   "name": "python3"
  },
  "language_info": {
   "codemirror_mode": {
    "name": "ipython",
    "version": 2
   },
   "file_extension": ".py",
   "mimetype": "text/x-python",
   "name": "python",
   "nbconvert_exporter": "python",
   "pygments_lexer": "ipython2",
   "version": "2.7.6"
  }
 },
 "nbformat": 4,
 "nbformat_minor": 5
}
